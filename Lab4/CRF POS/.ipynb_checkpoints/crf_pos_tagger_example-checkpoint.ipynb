{
 "cells": [
  {
   "cell_type": "code",
   "execution_count": 1,
   "metadata": {},
   "outputs": [],
   "source": [
    "from __future__ import print_function"
   ]
  },
  {
   "cell_type": "code",
   "execution_count": 2,
   "metadata": {},
   "outputs": [],
   "source": [
    "from nltk.tag import CRFTagger\n",
    "# see https://www.nltk.org/_modules/nltk/tag/crf.html for details on training/evaluation"
   ]
  },
  {
   "cell_type": "code",
   "execution_count": 3,
   "metadata": {},
   "outputs": [],
   "source": [
    "TAGGER_PATH = \"crfpostagger\"   # pre-trained POS-tagger"
   ]
  },
  {
   "cell_type": "code",
   "execution_count": 4,
   "metadata": {},
   "outputs": [],
   "source": [
    "tagger = CRFTagger()  # initialize tagger\n",
    "tagger.set_model_file(TAGGER_PATH)"
   ]
  },
  {
   "cell_type": "code",
   "execution_count": 5,
   "metadata": {},
   "outputs": [
    {
     "name": "stdout",
     "output_type": "stream",
     "text": [
      "[(u'i', 'PRP'), (u'like', 'VBP'), (u'revision', 'NN')]\n",
      "[(u'i', 'PRP'), (u'like', 'VBP'), (u'natural', 'JJ'), (u'language', 'NN'), (u'processing', 'NN')]\n"
     ]
    }
   ],
   "source": [
    "# try some sentences out- must all be unicode strings- trained on lower case\n",
    "print(tagger.tag([u\"i\", u\"like\", u\"revision\"]))\n",
    "print(tagger.tag([u\"i\", u\"like\", u\"natural\", u\"language\", u\"processing\"]))"
   ]
  },
  {
   "cell_type": "code",
   "execution_count": 6,
   "metadata": {},
   "outputs": [
    {
     "name": "stdout",
     "output_type": "stream",
     "text": [
      "[[(u'i', 'PRP'), (u'like', 'VBP'), (u'revision', 'NN')], [(u'i', 'PRP'), (u'like', 'VBP'), (u'natural', 'JJ'), (u'language', 'NN'), (u'processing', 'NN')]]\n"
     ]
    }
   ],
   "source": [
    "# scaling up as you might get them in text- make sure unicode and lower case\n",
    "sentences = [\"I like revision\",\n",
    "            \"I like Natural Language Processing\"]\n",
    "print(tagger.tag_sents([unicode(word.lower()) for word in s.split()] for s in sentences))"
   ]
  },
  {
   "cell_type": "code",
   "execution_count": null,
   "metadata": {
    "collapsed": true
   },
   "outputs": [],
   "source": []
  }
 ],
 "metadata": {
  "kernelspec": {
   "display_name": "Python [conda env:py27]",
   "language": "python",
   "name": "conda-env-py27-py"
  },
  "language_info": {
   "codemirror_mode": {
    "name": "ipython",
    "version": 2
   },
   "file_extension": ".py",
   "mimetype": "text/x-python",
   "name": "python",
   "nbconvert_exporter": "python",
   "pygments_lexer": "ipython2",
   "version": "2.7.16"
  }
 },
 "nbformat": 4,
 "nbformat_minor": 1
}
